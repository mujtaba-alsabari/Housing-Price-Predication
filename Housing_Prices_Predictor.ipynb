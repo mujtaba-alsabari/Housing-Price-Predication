{
 "cells": [
  {
   "cell_type": "markdown",
   "id": "87ac05c5-d434-471e-9867-100769fa0c1c",
   "metadata": {},
   "source": [
    "# Overview"
   ]
  },
  {
   "cell_type": "markdown",
   "id": "393b5ee6-51dd-4896-bc52-a9945429aa09",
   "metadata": {},
   "source": [
    "### This project demonstrates how to predict housing prices using **Linear Regression** and other models for Comparison on a real-world dataset\n"
   ]
  },
  {
   "cell_type": "markdown",
   "id": "feb83a64-d6a9-426c-964d-2a96058897f7",
   "metadata": {},
   "source": [
    "## Datasets"
   ]
  },
  {
   "cell_type": "markdown",
   "id": "309568c9-ba73-459d-bba0-c9760b1a8adb",
   "metadata": {},
   "source": [
    "### I will be using Housing Prices Dataset accuried from Kaggle"
   ]
  },
  {
   "cell_type": "markdown",
   "id": "dc927cbd-35c8-40f1-9fcb-e1b17a90e4fd",
   "metadata": {},
   "source": [
    "## Necessary libraries"
   ]
  },
  {
   "cell_type": "code",
   "execution_count": 452,
   "id": "02906c92-307d-4252-bda5-915a972b0e8f",
   "metadata": {},
   "outputs": [],
   "source": [
    "import pandas as pd\n",
    "import numpy as np\n",
    "import matplotlib.pyplot as plt\n",
    "import seaborn as sns\n",
    "from sklearn.model_selection import train_test_split\n",
    "from sklearn.metrics import mean_absolute_error, mean_squared_error, r2_score, confusion_matrix , classification_report , accuracy_score , mean_absolute_percentage_error\n",
    "from sklearn.preprocessing import StandardScaler\n",
    "from sklearn.linear_model import LinearRegression\n",
    "from sklearn.ensemble import RandomForestRegressor\n",
    "from sklearn.pipeline import make_pipeline\n",
    "from xgboost import XGBRegressor\n",
    "import os\n",
    "import warnings\n",
    "warnings.filterwarnings(\"ignore\")"
   ]
  },
  {
   "cell_type": "markdown",
   "id": "8dae923f-beb9-4dc9-863c-0f584fbc6a51",
   "metadata": {},
   "source": [
    "## loading the Datasets"
   ]
  },
  {
   "cell_type": "code",
   "execution_count": 453,
   "id": "f8c02799-27f2-4001-bb74-51e8c99c4cce",
   "metadata": {},
   "outputs": [],
   "source": [
    "housing_df = pd.read_csv(r\"C:/Users/mujta/Downloads/Real_PROJECTS/Housing_Price_Predictor/Housing.csv\")"
   ]
  },
  {
   "cell_type": "markdown",
   "id": "6365deec-8591-4bbe-af63-a9ff9bb29816",
   "metadata": {},
   "source": [
    "# EDA and Data Cleaning for Housing dataset"
   ]
  },
  {
   "cell_type": "code",
   "execution_count": 454,
   "id": "9a53fc9e-09a6-4510-902e-9b16b5e70233",
   "metadata": {},
   "outputs": [
    {
     "data": {
      "text/html": [
       "<div>\n",
       "<style scoped>\n",
       "    .dataframe tbody tr th:only-of-type {\n",
       "        vertical-align: middle;\n",
       "    }\n",
       "\n",
       "    .dataframe tbody tr th {\n",
       "        vertical-align: top;\n",
       "    }\n",
       "\n",
       "    .dataframe thead th {\n",
       "        text-align: right;\n",
       "    }\n",
       "</style>\n",
       "<table border=\"1\" class=\"dataframe\">\n",
       "  <thead>\n",
       "    <tr style=\"text-align: right;\">\n",
       "      <th></th>\n",
       "      <th>price</th>\n",
       "      <th>area</th>\n",
       "      <th>bedrooms</th>\n",
       "      <th>bathrooms</th>\n",
       "      <th>stories</th>\n",
       "      <th>mainroad</th>\n",
       "      <th>guestroom</th>\n",
       "      <th>basement</th>\n",
       "      <th>hotwaterheating</th>\n",
       "      <th>airconditioning</th>\n",
       "      <th>parking</th>\n",
       "      <th>prefarea</th>\n",
       "      <th>furnishingstatus</th>\n",
       "    </tr>\n",
       "  </thead>\n",
       "  <tbody>\n",
       "    <tr>\n",
       "      <th>0</th>\n",
       "      <td>13300000</td>\n",
       "      <td>7420</td>\n",
       "      <td>4</td>\n",
       "      <td>2</td>\n",
       "      <td>3</td>\n",
       "      <td>yes</td>\n",
       "      <td>no</td>\n",
       "      <td>no</td>\n",
       "      <td>no</td>\n",
       "      <td>yes</td>\n",
       "      <td>2</td>\n",
       "      <td>yes</td>\n",
       "      <td>furnished</td>\n",
       "    </tr>\n",
       "    <tr>\n",
       "      <th>1</th>\n",
       "      <td>12250000</td>\n",
       "      <td>8960</td>\n",
       "      <td>4</td>\n",
       "      <td>4</td>\n",
       "      <td>4</td>\n",
       "      <td>yes</td>\n",
       "      <td>no</td>\n",
       "      <td>no</td>\n",
       "      <td>no</td>\n",
       "      <td>yes</td>\n",
       "      <td>3</td>\n",
       "      <td>no</td>\n",
       "      <td>furnished</td>\n",
       "    </tr>\n",
       "    <tr>\n",
       "      <th>2</th>\n",
       "      <td>12250000</td>\n",
       "      <td>9960</td>\n",
       "      <td>3</td>\n",
       "      <td>2</td>\n",
       "      <td>2</td>\n",
       "      <td>yes</td>\n",
       "      <td>no</td>\n",
       "      <td>yes</td>\n",
       "      <td>no</td>\n",
       "      <td>no</td>\n",
       "      <td>2</td>\n",
       "      <td>yes</td>\n",
       "      <td>semi-furnished</td>\n",
       "    </tr>\n",
       "    <tr>\n",
       "      <th>3</th>\n",
       "      <td>12215000</td>\n",
       "      <td>7500</td>\n",
       "      <td>4</td>\n",
       "      <td>2</td>\n",
       "      <td>2</td>\n",
       "      <td>yes</td>\n",
       "      <td>no</td>\n",
       "      <td>yes</td>\n",
       "      <td>no</td>\n",
       "      <td>yes</td>\n",
       "      <td>3</td>\n",
       "      <td>yes</td>\n",
       "      <td>furnished</td>\n",
       "    </tr>\n",
       "    <tr>\n",
       "      <th>4</th>\n",
       "      <td>11410000</td>\n",
       "      <td>7420</td>\n",
       "      <td>4</td>\n",
       "      <td>1</td>\n",
       "      <td>2</td>\n",
       "      <td>yes</td>\n",
       "      <td>yes</td>\n",
       "      <td>yes</td>\n",
       "      <td>no</td>\n",
       "      <td>yes</td>\n",
       "      <td>2</td>\n",
       "      <td>no</td>\n",
       "      <td>furnished</td>\n",
       "    </tr>\n",
       "  </tbody>\n",
       "</table>\n",
       "</div>"
      ],
      "text/plain": [
       "      price  area  bedrooms  bathrooms  stories mainroad guestroom basement  \\\n",
       "0  13300000  7420         4          2        3      yes        no       no   \n",
       "1  12250000  8960         4          4        4      yes        no       no   \n",
       "2  12250000  9960         3          2        2      yes        no      yes   \n",
       "3  12215000  7500         4          2        2      yes        no      yes   \n",
       "4  11410000  7420         4          1        2      yes       yes      yes   \n",
       "\n",
       "  hotwaterheating airconditioning  parking prefarea furnishingstatus  \n",
       "0              no             yes        2      yes        furnished  \n",
       "1              no             yes        3       no        furnished  \n",
       "2              no              no        2      yes   semi-furnished  \n",
       "3              no             yes        3      yes        furnished  \n",
       "4              no             yes        2       no        furnished  "
      ]
     },
     "execution_count": 454,
     "metadata": {},
     "output_type": "execute_result"
    }
   ],
   "source": [
    "housing_df.head()"
   ]
  },
  {
   "cell_type": "code",
   "execution_count": 455,
   "id": "f50be689-e247-4b12-92e5-4e1d126ebe10",
   "metadata": {},
   "outputs": [
    {
     "data": {
      "text/html": [
       "<div>\n",
       "<style scoped>\n",
       "    .dataframe tbody tr th:only-of-type {\n",
       "        vertical-align: middle;\n",
       "    }\n",
       "\n",
       "    .dataframe tbody tr th {\n",
       "        vertical-align: top;\n",
       "    }\n",
       "\n",
       "    .dataframe thead th {\n",
       "        text-align: right;\n",
       "    }\n",
       "</style>\n",
       "<table border=\"1\" class=\"dataframe\">\n",
       "  <thead>\n",
       "    <tr style=\"text-align: right;\">\n",
       "      <th></th>\n",
       "      <th>price</th>\n",
       "      <th>area</th>\n",
       "      <th>bedrooms</th>\n",
       "      <th>bathrooms</th>\n",
       "      <th>stories</th>\n",
       "      <th>mainroad</th>\n",
       "      <th>guestroom</th>\n",
       "      <th>basement</th>\n",
       "      <th>hotwaterheating</th>\n",
       "      <th>airconditioning</th>\n",
       "      <th>parking</th>\n",
       "      <th>prefarea</th>\n",
       "      <th>furnishingstatus</th>\n",
       "    </tr>\n",
       "  </thead>\n",
       "  <tbody>\n",
       "    <tr>\n",
       "      <th>540</th>\n",
       "      <td>1820000</td>\n",
       "      <td>3000</td>\n",
       "      <td>2</td>\n",
       "      <td>1</td>\n",
       "      <td>1</td>\n",
       "      <td>yes</td>\n",
       "      <td>no</td>\n",
       "      <td>yes</td>\n",
       "      <td>no</td>\n",
       "      <td>no</td>\n",
       "      <td>2</td>\n",
       "      <td>no</td>\n",
       "      <td>unfurnished</td>\n",
       "    </tr>\n",
       "    <tr>\n",
       "      <th>541</th>\n",
       "      <td>1767150</td>\n",
       "      <td>2400</td>\n",
       "      <td>3</td>\n",
       "      <td>1</td>\n",
       "      <td>1</td>\n",
       "      <td>no</td>\n",
       "      <td>no</td>\n",
       "      <td>no</td>\n",
       "      <td>no</td>\n",
       "      <td>no</td>\n",
       "      <td>0</td>\n",
       "      <td>no</td>\n",
       "      <td>semi-furnished</td>\n",
       "    </tr>\n",
       "    <tr>\n",
       "      <th>542</th>\n",
       "      <td>1750000</td>\n",
       "      <td>3620</td>\n",
       "      <td>2</td>\n",
       "      <td>1</td>\n",
       "      <td>1</td>\n",
       "      <td>yes</td>\n",
       "      <td>no</td>\n",
       "      <td>no</td>\n",
       "      <td>no</td>\n",
       "      <td>no</td>\n",
       "      <td>0</td>\n",
       "      <td>no</td>\n",
       "      <td>unfurnished</td>\n",
       "    </tr>\n",
       "    <tr>\n",
       "      <th>543</th>\n",
       "      <td>1750000</td>\n",
       "      <td>2910</td>\n",
       "      <td>3</td>\n",
       "      <td>1</td>\n",
       "      <td>1</td>\n",
       "      <td>no</td>\n",
       "      <td>no</td>\n",
       "      <td>no</td>\n",
       "      <td>no</td>\n",
       "      <td>no</td>\n",
       "      <td>0</td>\n",
       "      <td>no</td>\n",
       "      <td>furnished</td>\n",
       "    </tr>\n",
       "    <tr>\n",
       "      <th>544</th>\n",
       "      <td>1750000</td>\n",
       "      <td>3850</td>\n",
       "      <td>3</td>\n",
       "      <td>1</td>\n",
       "      <td>2</td>\n",
       "      <td>yes</td>\n",
       "      <td>no</td>\n",
       "      <td>no</td>\n",
       "      <td>no</td>\n",
       "      <td>no</td>\n",
       "      <td>0</td>\n",
       "      <td>no</td>\n",
       "      <td>unfurnished</td>\n",
       "    </tr>\n",
       "  </tbody>\n",
       "</table>\n",
       "</div>"
      ],
      "text/plain": [
       "       price  area  bedrooms  bathrooms  stories mainroad guestroom basement  \\\n",
       "540  1820000  3000         2          1        1      yes        no      yes   \n",
       "541  1767150  2400         3          1        1       no        no       no   \n",
       "542  1750000  3620         2          1        1      yes        no       no   \n",
       "543  1750000  2910         3          1        1       no        no       no   \n",
       "544  1750000  3850         3          1        2      yes        no       no   \n",
       "\n",
       "    hotwaterheating airconditioning  parking prefarea furnishingstatus  \n",
       "540              no              no        2       no      unfurnished  \n",
       "541              no              no        0       no   semi-furnished  \n",
       "542              no              no        0       no      unfurnished  \n",
       "543              no              no        0       no        furnished  \n",
       "544              no              no        0       no      unfurnished  "
      ]
     },
     "execution_count": 455,
     "metadata": {},
     "output_type": "execute_result"
    }
   ],
   "source": [
    "housing_df.tail()"
   ]
  },
  {
   "cell_type": "code",
   "execution_count": 456,
   "id": "3340f4cb-3d8f-464a-a812-60aab21c6ebc",
   "metadata": {},
   "outputs": [
    {
     "data": {
      "text/plain": [
       "(545, 13)"
      ]
     },
     "execution_count": 456,
     "metadata": {},
     "output_type": "execute_result"
    }
   ],
   "source": [
    "housing_df.shape"
   ]
  },
  {
   "cell_type": "code",
   "execution_count": 457,
   "id": "f8e7bb41-f9b4-4d0a-9315-819d5b2bb679",
   "metadata": {},
   "outputs": [
    {
     "name": "stdout",
     "output_type": "stream",
     "text": [
      "<class 'pandas.core.frame.DataFrame'>\n",
      "RangeIndex: 545 entries, 0 to 544\n",
      "Data columns (total 13 columns):\n",
      " #   Column            Non-Null Count  Dtype \n",
      "---  ------            --------------  ----- \n",
      " 0   price             545 non-null    int64 \n",
      " 1   area              545 non-null    int64 \n",
      " 2   bedrooms          545 non-null    int64 \n",
      " 3   bathrooms         545 non-null    int64 \n",
      " 4   stories           545 non-null    int64 \n",
      " 5   mainroad          545 non-null    object\n",
      " 6   guestroom         545 non-null    object\n",
      " 7   basement          545 non-null    object\n",
      " 8   hotwaterheating   545 non-null    object\n",
      " 9   airconditioning   545 non-null    object\n",
      " 10  parking           545 non-null    int64 \n",
      " 11  prefarea          545 non-null    object\n",
      " 12  furnishingstatus  545 non-null    object\n",
      "dtypes: int64(6), object(7)\n",
      "memory usage: 55.5+ KB\n"
     ]
    }
   ],
   "source": [
    "housing_df.info()"
   ]
  },
  {
   "cell_type": "code",
   "execution_count": 458,
   "id": "4c0308db-746a-4022-afc8-2d99aff9d040",
   "metadata": {},
   "outputs": [
    {
     "data": {
      "text/plain": [
       "price               0\n",
       "area                0\n",
       "bedrooms            0\n",
       "bathrooms           0\n",
       "stories             0\n",
       "mainroad            0\n",
       "guestroom           0\n",
       "basement            0\n",
       "hotwaterheating     0\n",
       "airconditioning     0\n",
       "parking             0\n",
       "prefarea            0\n",
       "furnishingstatus    0\n",
       "dtype: int64"
      ]
     },
     "execution_count": 458,
     "metadata": {},
     "output_type": "execute_result"
    }
   ],
   "source": [
    "housing_df.isna().sum()"
   ]
  },
  {
   "cell_type": "code",
   "execution_count": 459,
   "id": "82fcc4df-7ee8-4b34-9e35-55d352485c3e",
   "metadata": {},
   "outputs": [
    {
     "data": {
      "text/html": [
       "<div>\n",
       "<style scoped>\n",
       "    .dataframe tbody tr th:only-of-type {\n",
       "        vertical-align: middle;\n",
       "    }\n",
       "\n",
       "    .dataframe tbody tr th {\n",
       "        vertical-align: top;\n",
       "    }\n",
       "\n",
       "    .dataframe thead th {\n",
       "        text-align: right;\n",
       "    }\n",
       "</style>\n",
       "<table border=\"1\" class=\"dataframe\">\n",
       "  <thead>\n",
       "    <tr style=\"text-align: right;\">\n",
       "      <th></th>\n",
       "      <th>price</th>\n",
       "      <th>area</th>\n",
       "      <th>bedrooms</th>\n",
       "      <th>bathrooms</th>\n",
       "      <th>stories</th>\n",
       "      <th>parking</th>\n",
       "    </tr>\n",
       "  </thead>\n",
       "  <tbody>\n",
       "    <tr>\n",
       "      <th>count</th>\n",
       "      <td>5.450000e+02</td>\n",
       "      <td>545.000000</td>\n",
       "      <td>545.000000</td>\n",
       "      <td>545.000000</td>\n",
       "      <td>545.000000</td>\n",
       "      <td>545.000000</td>\n",
       "    </tr>\n",
       "    <tr>\n",
       "      <th>mean</th>\n",
       "      <td>4.766729e+06</td>\n",
       "      <td>5150.541284</td>\n",
       "      <td>2.965138</td>\n",
       "      <td>1.286239</td>\n",
       "      <td>1.805505</td>\n",
       "      <td>0.693578</td>\n",
       "    </tr>\n",
       "    <tr>\n",
       "      <th>std</th>\n",
       "      <td>1.870440e+06</td>\n",
       "      <td>2170.141023</td>\n",
       "      <td>0.738064</td>\n",
       "      <td>0.502470</td>\n",
       "      <td>0.867492</td>\n",
       "      <td>0.861586</td>\n",
       "    </tr>\n",
       "    <tr>\n",
       "      <th>min</th>\n",
       "      <td>1.750000e+06</td>\n",
       "      <td>1650.000000</td>\n",
       "      <td>1.000000</td>\n",
       "      <td>1.000000</td>\n",
       "      <td>1.000000</td>\n",
       "      <td>0.000000</td>\n",
       "    </tr>\n",
       "    <tr>\n",
       "      <th>25%</th>\n",
       "      <td>3.430000e+06</td>\n",
       "      <td>3600.000000</td>\n",
       "      <td>2.000000</td>\n",
       "      <td>1.000000</td>\n",
       "      <td>1.000000</td>\n",
       "      <td>0.000000</td>\n",
       "    </tr>\n",
       "    <tr>\n",
       "      <th>50%</th>\n",
       "      <td>4.340000e+06</td>\n",
       "      <td>4600.000000</td>\n",
       "      <td>3.000000</td>\n",
       "      <td>1.000000</td>\n",
       "      <td>2.000000</td>\n",
       "      <td>0.000000</td>\n",
       "    </tr>\n",
       "    <tr>\n",
       "      <th>75%</th>\n",
       "      <td>5.740000e+06</td>\n",
       "      <td>6360.000000</td>\n",
       "      <td>3.000000</td>\n",
       "      <td>2.000000</td>\n",
       "      <td>2.000000</td>\n",
       "      <td>1.000000</td>\n",
       "    </tr>\n",
       "    <tr>\n",
       "      <th>max</th>\n",
       "      <td>1.330000e+07</td>\n",
       "      <td>16200.000000</td>\n",
       "      <td>6.000000</td>\n",
       "      <td>4.000000</td>\n",
       "      <td>4.000000</td>\n",
       "      <td>3.000000</td>\n",
       "    </tr>\n",
       "  </tbody>\n",
       "</table>\n",
       "</div>"
      ],
      "text/plain": [
       "              price          area    bedrooms   bathrooms     stories  \\\n",
       "count  5.450000e+02    545.000000  545.000000  545.000000  545.000000   \n",
       "mean   4.766729e+06   5150.541284    2.965138    1.286239    1.805505   \n",
       "std    1.870440e+06   2170.141023    0.738064    0.502470    0.867492   \n",
       "min    1.750000e+06   1650.000000    1.000000    1.000000    1.000000   \n",
       "25%    3.430000e+06   3600.000000    2.000000    1.000000    1.000000   \n",
       "50%    4.340000e+06   4600.000000    3.000000    1.000000    2.000000   \n",
       "75%    5.740000e+06   6360.000000    3.000000    2.000000    2.000000   \n",
       "max    1.330000e+07  16200.000000    6.000000    4.000000    4.000000   \n",
       "\n",
       "          parking  \n",
       "count  545.000000  \n",
       "mean     0.693578  \n",
       "std      0.861586  \n",
       "min      0.000000  \n",
       "25%      0.000000  \n",
       "50%      0.000000  \n",
       "75%      1.000000  \n",
       "max      3.000000  "
      ]
     },
     "execution_count": 459,
     "metadata": {},
     "output_type": "execute_result"
    }
   ],
   "source": [
    "housing_df.describe()"
   ]
  },
  {
   "cell_type": "code",
   "execution_count": 460,
   "id": "03fe31cd-1fdc-474d-b49e-309782b515fa",
   "metadata": {},
   "outputs": [
    {
     "data": {
      "text/plain": [
       "furnishingstatus\n",
       "semi-furnished    227\n",
       "unfurnished       178\n",
       "furnished         140\n",
       "Name: count, dtype: int64"
      ]
     },
     "execution_count": 460,
     "metadata": {},
     "output_type": "execute_result"
    }
   ],
   "source": [
    "housing_df.furnishingstatus.value_counts()"
   ]
  },
  {
   "cell_type": "code",
   "execution_count": 461,
   "id": "4d5af5cb-bc9d-4833-bedb-53c07c0ae9cf",
   "metadata": {},
   "outputs": [
    {
     "data": {
      "text/plain": [
       "prefarea\n",
       "no     417\n",
       "yes    128\n",
       "Name: count, dtype: int64"
      ]
     },
     "execution_count": 461,
     "metadata": {},
     "output_type": "execute_result"
    }
   ],
   "source": [
    "housing_df.prefarea.value_counts()"
   ]
  },
  {
   "cell_type": "code",
   "execution_count": 462,
   "id": "2f8d7cfe-44b1-4953-aabc-2de6b359d707",
   "metadata": {},
   "outputs": [
    {
     "data": {
      "text/plain": [
       "Index(['price', 'area', 'bedrooms', 'bathrooms', 'stories', 'mainroad',\n",
       "       'guestroom', 'basement', 'hotwaterheating', 'airconditioning',\n",
       "       'parking', 'prefarea', 'furnishingstatus'],\n",
       "      dtype='object')"
      ]
     },
     "execution_count": 462,
     "metadata": {},
     "output_type": "execute_result"
    }
   ],
   "source": [
    "housing_df.columns"
   ]
  },
  {
   "cell_type": "code",
   "execution_count": 463,
   "id": "e7241ec1-9006-4582-b4e4-735bd6a07888",
   "metadata": {},
   "outputs": [
    {
     "name": "stdout",
     "output_type": "stream",
     "text": [
      "\n",
      "Column: price\n",
      "price\n",
      "4200000    17\n",
      "3500000    17\n",
      "4900000    12\n",
      "5250000     9\n",
      "5600000     9\n",
      "           ..\n",
      "2135000     1\n",
      "1960000     1\n",
      "1855000     1\n",
      "1820000     1\n",
      "1767150     1\n",
      "Name: count, Length: 219, dtype: int64\n",
      "\n",
      "Column: area\n",
      "area\n",
      "6000    24\n",
      "3000    14\n",
      "4500    13\n",
      "4000    11\n",
      "6600     9\n",
      "        ..\n",
      "3360     1\n",
      "1700     1\n",
      "3649     1\n",
      "2990     1\n",
      "3620     1\n",
      "Name: count, Length: 284, dtype: int64\n",
      "\n",
      "Column: bedrooms\n",
      "bedrooms\n",
      "3    300\n",
      "2    136\n",
      "4     95\n",
      "5     10\n",
      "6      2\n",
      "1      2\n",
      "Name: count, dtype: int64\n",
      "\n",
      "Column: bathrooms\n",
      "bathrooms\n",
      "1    401\n",
      "2    133\n",
      "3     10\n",
      "4      1\n",
      "Name: count, dtype: int64\n",
      "\n",
      "Column: stories\n",
      "stories\n",
      "2    238\n",
      "1    227\n",
      "4     41\n",
      "3     39\n",
      "Name: count, dtype: int64\n",
      "\n",
      "Column: mainroad\n",
      "mainroad\n",
      "yes    468\n",
      "no      77\n",
      "Name: count, dtype: int64\n",
      "\n",
      "Column: guestroom\n",
      "guestroom\n",
      "no     448\n",
      "yes     97\n",
      "Name: count, dtype: int64\n",
      "\n",
      "Column: basement\n",
      "basement\n",
      "no     354\n",
      "yes    191\n",
      "Name: count, dtype: int64\n",
      "\n",
      "Column: hotwaterheating\n",
      "hotwaterheating\n",
      "no     520\n",
      "yes     25\n",
      "Name: count, dtype: int64\n",
      "\n",
      "Column: airconditioning\n",
      "airconditioning\n",
      "no     373\n",
      "yes    172\n",
      "Name: count, dtype: int64\n",
      "\n",
      "Column: parking\n",
      "parking\n",
      "0    299\n",
      "1    126\n",
      "2    108\n",
      "3     12\n",
      "Name: count, dtype: int64\n",
      "\n",
      "Column: prefarea\n",
      "prefarea\n",
      "no     417\n",
      "yes    128\n",
      "Name: count, dtype: int64\n",
      "\n",
      "Column: furnishingstatus\n",
      "furnishingstatus\n",
      "semi-furnished    227\n",
      "unfurnished       178\n",
      "furnished         140\n",
      "Name: count, dtype: int64\n"
     ]
    }
   ],
   "source": [
    "for i in housing_df.columns:\n",
    "    print(f\"\\nColumn: {i}\")\n",
    "    print(housing_df[i].value_counts())"
   ]
  },
  {
   "cell_type": "code",
   "execution_count": 464,
   "id": "64d14dfd-0b9c-45df-98cd-06644747d3c2",
   "metadata": {},
   "outputs": [
    {
     "data": {
      "text/html": [
       "<div>\n",
       "<style scoped>\n",
       "    .dataframe tbody tr th:only-of-type {\n",
       "        vertical-align: middle;\n",
       "    }\n",
       "\n",
       "    .dataframe tbody tr th {\n",
       "        vertical-align: top;\n",
       "    }\n",
       "\n",
       "    .dataframe thead th {\n",
       "        text-align: right;\n",
       "    }\n",
       "</style>\n",
       "<table border=\"1\" class=\"dataframe\">\n",
       "  <thead>\n",
       "    <tr style=\"text-align: right;\">\n",
       "      <th></th>\n",
       "      <th>price</th>\n",
       "      <th>area</th>\n",
       "      <th>bedrooms</th>\n",
       "      <th>bathrooms</th>\n",
       "      <th>stories</th>\n",
       "      <th>mainroad</th>\n",
       "      <th>guestroom</th>\n",
       "      <th>basement</th>\n",
       "      <th>hotwaterheating</th>\n",
       "      <th>airconditioning</th>\n",
       "      <th>parking</th>\n",
       "      <th>prefarea</th>\n",
       "      <th>furnishingstatus</th>\n",
       "    </tr>\n",
       "  </thead>\n",
       "  <tbody>\n",
       "    <tr>\n",
       "      <th>0</th>\n",
       "      <td>13300000</td>\n",
       "      <td>7420</td>\n",
       "      <td>4</td>\n",
       "      <td>2</td>\n",
       "      <td>3</td>\n",
       "      <td>1</td>\n",
       "      <td>0</td>\n",
       "      <td>0</td>\n",
       "      <td>0</td>\n",
       "      <td>1</td>\n",
       "      <td>2</td>\n",
       "      <td>1</td>\n",
       "      <td>furnished</td>\n",
       "    </tr>\n",
       "    <tr>\n",
       "      <th>1</th>\n",
       "      <td>12250000</td>\n",
       "      <td>8960</td>\n",
       "      <td>4</td>\n",
       "      <td>4</td>\n",
       "      <td>4</td>\n",
       "      <td>1</td>\n",
       "      <td>0</td>\n",
       "      <td>0</td>\n",
       "      <td>0</td>\n",
       "      <td>1</td>\n",
       "      <td>3</td>\n",
       "      <td>0</td>\n",
       "      <td>furnished</td>\n",
       "    </tr>\n",
       "    <tr>\n",
       "      <th>2</th>\n",
       "      <td>12250000</td>\n",
       "      <td>9960</td>\n",
       "      <td>3</td>\n",
       "      <td>2</td>\n",
       "      <td>2</td>\n",
       "      <td>1</td>\n",
       "      <td>0</td>\n",
       "      <td>1</td>\n",
       "      <td>0</td>\n",
       "      <td>0</td>\n",
       "      <td>2</td>\n",
       "      <td>1</td>\n",
       "      <td>semi-furnished</td>\n",
       "    </tr>\n",
       "    <tr>\n",
       "      <th>3</th>\n",
       "      <td>12215000</td>\n",
       "      <td>7500</td>\n",
       "      <td>4</td>\n",
       "      <td>2</td>\n",
       "      <td>2</td>\n",
       "      <td>1</td>\n",
       "      <td>0</td>\n",
       "      <td>1</td>\n",
       "      <td>0</td>\n",
       "      <td>1</td>\n",
       "      <td>3</td>\n",
       "      <td>1</td>\n",
       "      <td>furnished</td>\n",
       "    </tr>\n",
       "    <tr>\n",
       "      <th>4</th>\n",
       "      <td>11410000</td>\n",
       "      <td>7420</td>\n",
       "      <td>4</td>\n",
       "      <td>1</td>\n",
       "      <td>2</td>\n",
       "      <td>1</td>\n",
       "      <td>1</td>\n",
       "      <td>1</td>\n",
       "      <td>0</td>\n",
       "      <td>1</td>\n",
       "      <td>2</td>\n",
       "      <td>0</td>\n",
       "      <td>furnished</td>\n",
       "    </tr>\n",
       "  </tbody>\n",
       "</table>\n",
       "</div>"
      ],
      "text/plain": [
       "      price  area  bedrooms  bathrooms  stories  mainroad  guestroom  \\\n",
       "0  13300000  7420         4          2        3         1          0   \n",
       "1  12250000  8960         4          4        4         1          0   \n",
       "2  12250000  9960         3          2        2         1          0   \n",
       "3  12215000  7500         4          2        2         1          0   \n",
       "4  11410000  7420         4          1        2         1          1   \n",
       "\n",
       "   basement  hotwaterheating  airconditioning  parking  prefarea  \\\n",
       "0         0                0                1        2         1   \n",
       "1         0                0                1        3         0   \n",
       "2         1                0                0        2         1   \n",
       "3         1                0                1        3         1   \n",
       "4         1                0                1        2         0   \n",
       "\n",
       "  furnishingstatus  \n",
       "0        furnished  \n",
       "1        furnished  \n",
       "2   semi-furnished  \n",
       "3        furnished  \n",
       "4        furnished  "
      ]
     },
     "execution_count": 464,
     "metadata": {},
     "output_type": "execute_result"
    }
   ],
   "source": [
    "housing_df[['mainroad','guestroom','basement','hotwaterheating','airconditioning','prefarea']] = housing_df[['mainroad','guestroom','basement','hotwaterheating','airconditioning','prefarea']].applymap({'no': 0, 'yes': 1}.get)\n",
    "housing_df.head()"
   ]
  },
  {
   "cell_type": "code",
   "execution_count": 465,
   "id": "f8a24cb1-1a75-4876-8351-48727bfaae17",
   "metadata": {},
   "outputs": [],
   "source": [
    "housing_df = pd.get_dummies(housing_df, columns=['furnishingstatus'], drop_first=True)\n",
    "housing_df = housing_df.astype(int)"
   ]
  },
  {
   "cell_type": "code",
   "execution_count": 466,
   "id": "16ddc5e2-fef8-4d8d-b61e-22f22c86e724",
   "metadata": {},
   "outputs": [
    {
     "data": {
      "text/html": [
       "<div>\n",
       "<style scoped>\n",
       "    .dataframe tbody tr th:only-of-type {\n",
       "        vertical-align: middle;\n",
       "    }\n",
       "\n",
       "    .dataframe tbody tr th {\n",
       "        vertical-align: top;\n",
       "    }\n",
       "\n",
       "    .dataframe thead th {\n",
       "        text-align: right;\n",
       "    }\n",
       "</style>\n",
       "<table border=\"1\" class=\"dataframe\">\n",
       "  <thead>\n",
       "    <tr style=\"text-align: right;\">\n",
       "      <th></th>\n",
       "      <th>price</th>\n",
       "      <th>area</th>\n",
       "      <th>bedrooms</th>\n",
       "      <th>bathrooms</th>\n",
       "      <th>stories</th>\n",
       "      <th>mainroad</th>\n",
       "      <th>guestroom</th>\n",
       "      <th>basement</th>\n",
       "      <th>hotwaterheating</th>\n",
       "      <th>airconditioning</th>\n",
       "      <th>parking</th>\n",
       "      <th>prefarea</th>\n",
       "      <th>furnishingstatus_semi-furnished</th>\n",
       "      <th>furnishingstatus_unfurnished</th>\n",
       "    </tr>\n",
       "  </thead>\n",
       "  <tbody>\n",
       "    <tr>\n",
       "      <th>0</th>\n",
       "      <td>13300000</td>\n",
       "      <td>7420</td>\n",
       "      <td>4</td>\n",
       "      <td>2</td>\n",
       "      <td>3</td>\n",
       "      <td>1</td>\n",
       "      <td>0</td>\n",
       "      <td>0</td>\n",
       "      <td>0</td>\n",
       "      <td>1</td>\n",
       "      <td>2</td>\n",
       "      <td>1</td>\n",
       "      <td>0</td>\n",
       "      <td>0</td>\n",
       "    </tr>\n",
       "    <tr>\n",
       "      <th>1</th>\n",
       "      <td>12250000</td>\n",
       "      <td>8960</td>\n",
       "      <td>4</td>\n",
       "      <td>4</td>\n",
       "      <td>4</td>\n",
       "      <td>1</td>\n",
       "      <td>0</td>\n",
       "      <td>0</td>\n",
       "      <td>0</td>\n",
       "      <td>1</td>\n",
       "      <td>3</td>\n",
       "      <td>0</td>\n",
       "      <td>0</td>\n",
       "      <td>0</td>\n",
       "    </tr>\n",
       "    <tr>\n",
       "      <th>2</th>\n",
       "      <td>12250000</td>\n",
       "      <td>9960</td>\n",
       "      <td>3</td>\n",
       "      <td>2</td>\n",
       "      <td>2</td>\n",
       "      <td>1</td>\n",
       "      <td>0</td>\n",
       "      <td>1</td>\n",
       "      <td>0</td>\n",
       "      <td>0</td>\n",
       "      <td>2</td>\n",
       "      <td>1</td>\n",
       "      <td>1</td>\n",
       "      <td>0</td>\n",
       "    </tr>\n",
       "    <tr>\n",
       "      <th>3</th>\n",
       "      <td>12215000</td>\n",
       "      <td>7500</td>\n",
       "      <td>4</td>\n",
       "      <td>2</td>\n",
       "      <td>2</td>\n",
       "      <td>1</td>\n",
       "      <td>0</td>\n",
       "      <td>1</td>\n",
       "      <td>0</td>\n",
       "      <td>1</td>\n",
       "      <td>3</td>\n",
       "      <td>1</td>\n",
       "      <td>0</td>\n",
       "      <td>0</td>\n",
       "    </tr>\n",
       "    <tr>\n",
       "      <th>4</th>\n",
       "      <td>11410000</td>\n",
       "      <td>7420</td>\n",
       "      <td>4</td>\n",
       "      <td>1</td>\n",
       "      <td>2</td>\n",
       "      <td>1</td>\n",
       "      <td>1</td>\n",
       "      <td>1</td>\n",
       "      <td>0</td>\n",
       "      <td>1</td>\n",
       "      <td>2</td>\n",
       "      <td>0</td>\n",
       "      <td>0</td>\n",
       "      <td>0</td>\n",
       "    </tr>\n",
       "  </tbody>\n",
       "</table>\n",
       "</div>"
      ],
      "text/plain": [
       "      price  area  bedrooms  bathrooms  stories  mainroad  guestroom  \\\n",
       "0  13300000  7420         4          2        3         1          0   \n",
       "1  12250000  8960         4          4        4         1          0   \n",
       "2  12250000  9960         3          2        2         1          0   \n",
       "3  12215000  7500         4          2        2         1          0   \n",
       "4  11410000  7420         4          1        2         1          1   \n",
       "\n",
       "   basement  hotwaterheating  airconditioning  parking  prefarea  \\\n",
       "0         0                0                1        2         1   \n",
       "1         0                0                1        3         0   \n",
       "2         1                0                0        2         1   \n",
       "3         1                0                1        3         1   \n",
       "4         1                0                1        2         0   \n",
       "\n",
       "   furnishingstatus_semi-furnished  furnishingstatus_unfurnished  \n",
       "0                                0                             0  \n",
       "1                                0                             0  \n",
       "2                                1                             0  \n",
       "3                                0                             0  \n",
       "4                                0                             0  "
      ]
     },
     "execution_count": 466,
     "metadata": {},
     "output_type": "execute_result"
    }
   ],
   "source": [
    "housing_df.head()"
   ]
  },
  {
   "cell_type": "code",
   "execution_count": 467,
   "id": "87a86f49-1274-40b3-a608-63aeff29562b",
   "metadata": {},
   "outputs": [
    {
     "data": {
      "image/png": "[encoded data removed]",
      "text/plain": [
       "<Figure size 1200x800 with 2 Axes>"
      ]
     },
     "metadata": {},
     "output_type": "display_data"
    }
   ],
   "source": [
    "plt.figure(figsize=(12,8))\n",
    "sns.heatmap(housing_df.corr(), annot=False, cmap=\"coolwarm\", center=0)\n",
    "plt.title(\"Feature Correlation Heatmap\")\n",
    "plt.show()"
   ]
  },
  {
   "cell_type": "code",
   "execution_count": 468,
   "id": "24548b17-cc64-4597-9baa-87d284c70ce9",
   "metadata": {},
   "outputs": [
    {
     "data": {
      "image/png": "[encoded data removed]",
      "text/plain": [
       "<Figure size 1400x800 with 6 Axes>"
      ]
     },
     "metadata": {},
     "output_type": "display_data"
    }
   ],
   "source": [
    "plt.figure(figsize=(14,8))\n",
    "\n",
    "plt.subplot(2,3,1)\n",
    "plt.hist(housing_df[\"price\"], bins=30, color=\"skyblue\", edgecolor=\"black\")\n",
    "plt.title(\"Distribution of Price\")\n",
    "\n",
    "plt.subplot(2,3,2)\n",
    "plt.hist(housing_df[\"area\"], bins=30, color=\"skyblue\", edgecolor=\"black\")\n",
    "plt.title(\"Distribution of Area\")\n",
    "\n",
    "plt.subplot(2,3,3)\n",
    "plt.hist(housing_df[\"bedrooms\"], bins=30, color=\"skyblue\", edgecolor=\"black\")\n",
    "plt.title(\"Distribution of Bedrooms\")\n",
    "\n",
    "plt.subplot(2,3,4)\n",
    "plt.hist(housing_df[\"bathrooms\"], bins=30, color=\"skyblue\", edgecolor=\"black\")\n",
    "plt.title(\"Distribution of Bathrooms\")\n",
    "\n",
    "plt.subplot(2,3,5)\n",
    "plt.hist(housing_df[\"stories\"], bins=30, color=\"skyblue\", edgecolor=\"black\")\n",
    "plt.title(\"Distribution of Stories\")\n",
    "\n",
    "plt.subplot(2,3,6)\n",
    "plt.hist(housing_df[\"parking\"], bins=30, color=\"skyblue\", edgecolor=\"black\")\n",
    "plt.title(\"Distribution of Parking\")\n",
    "\n",
    "plt.tight_layout()\n",
    "plt.show()"
   ]
  },
  {
   "cell_type": "code",
   "execution_count": 469,
   "id": "4c118130-fb4b-4979-a336-3631a1723291",
   "metadata": {},
   "outputs": [
    {
     "data": {
      "image/png": "[encoded data removed]",
      "text/plain": [
       "<Figure size 1400x1000 with 6 Axes>"
      ]
     },
     "metadata": {},
     "output_type": "display_data"
    }
   ],
   "source": [
    "plt.figure(figsize=(14,10))\n",
    "\n",
    "plt.subplot(3,2,1)\n",
    "sns.boxplot(x=\"mainroad\", y=\"price\", data=housing_df, palette=\"Set2\")\n",
    "plt.title(\"Price vs Mainroad\")\n",
    "\n",
    "plt.subplot(3,2,2)\n",
    "sns.boxplot(x=\"guestroom\", y=\"price\", data=housing_df, palette=\"Set2\")\n",
    "plt.title(\"Price vs Guestroom\")\n",
    "\n",
    "plt.subplot(3,2,3)\n",
    "sns.boxplot(x=\"basement\", y=\"price\", data=housing_df, palette=\"Set2\")\n",
    "plt.title(\"Price vs Basement\")\n",
    "\n",
    "plt.subplot(3,2,4)\n",
    "sns.boxplot(x=\"hotwaterheating\", y=\"price\", data=housing_df, palette=\"Set2\")\n",
    "plt.title(\"Price vs Hotwaterheating\")\n",
    "\n",
    "plt.subplot(3,2,5)\n",
    "sns.boxplot(x=\"airconditioning\", y=\"price\", data=housing_df, palette=\"Set2\")\n",
    "plt.title(\"Price vs Airconditioning\")\n",
    "\n",
    "plt.subplot(3,2,6)\n",
    "sns.boxplot(x=\"prefarea\", y=\"price\", data=housing_df, palette=\"Set2\")\n",
    "plt.title(\"Price vs Prefarea\")\n",
    "\n",
    "plt.tight_layout()\n",
    "plt.show()"
   ]
  },
  {
   "cell_type": "code",
   "execution_count": 470,
   "id": "228d04c3-c31f-4025-ad22-b7716a3a29e6",
   "metadata": {},
   "outputs": [
    {
     "data": {
      "image/png": "[encoded data removed]",
      "text/plain": [
       "<Figure size 1400x1000 with 5 Axes>"
      ]
     },
     "metadata": {},
     "output_type": "display_data"
    }
   ],
   "source": [
    "plt.figure(figsize=(14,10))\n",
    "\n",
    "# Price vs Area\n",
    "plt.subplot(3,2,1)\n",
    "sns.regplot(x=\"area\", y=\"price\", data=housing_df, scatter_kws={\"alpha\":0.5}, line_kws={\"color\":\"red\"})\n",
    "plt.title(\"Price vs Area\")\n",
    "\n",
    "# Price vs Bedrooms\n",
    "plt.subplot(3,2,2)\n",
    "sns.regplot(x=\"bedrooms\", y=\"price\", data=housing_df, scatter_kws={\"alpha\":0.5}, line_kws={\"color\":\"red\"})\n",
    "plt.title(\"Price vs Bedrooms\")\n",
    "\n",
    "# Price vs Bathrooms\n",
    "plt.subplot(3,2,3)\n",
    "sns.regplot(x=\"bathrooms\", y=\"price\", data=housing_df, scatter_kws={\"alpha\":0.5}, line_kws={\"color\":\"red\"})\n",
    "plt.title(\"Price vs Bathrooms\")\n",
    "\n",
    "# Price vs Stories\n",
    "plt.subplot(3,2,4)\n",
    "sns.regplot(x=\"stories\", y=\"price\", data=housing_df, scatter_kws={\"alpha\":0.5}, line_kws={\"color\":\"red\"})\n",
    "plt.title(\"Price vs Stories\")\n",
    "\n",
    "# Price vs Parking\n",
    "plt.subplot(3,2,5)\n",
    "sns.regplot(x=\"parking\", y=\"price\", data=housing_df, scatter_kws={\"alpha\":0.5}, line_kws={\"color\":\"red\"})\n",
    "plt.title(\"Price vs Parking\")\n",
    "\n",
    "plt.tight_layout()\n",
    "plt.show()"
   ]
  },
  {
   "cell_type": "markdown",
   "id": "31ab8e59-8de7-450b-87fa-8cafd8e26aa3",
   "metadata": {},
   "source": [
    "## Splitting data"
   ]
  },
  {
   "cell_type": "code",
   "execution_count": 471,
   "id": "bb256ad6-7b77-4cce-adc9-a36e0244eaf0",
   "metadata": {},
   "outputs": [],
   "source": [
    "X = housing_df.drop(columns=\"price\")\n",
    "y = housing_df[\"price\"]"
   ]
  },
  {
   "cell_type": "code",
   "execution_count": 472,
   "id": "ad3b42f8-13ef-471d-8eb5-8d9f98596446",
   "metadata": {},
   "outputs": [],
   "source": [
    "X_train , X_test , y_train , y_test = train_test_split( X , y , test_size = 0.2 , random_state = 2022)"
   ]
  },
  {
   "cell_type": "markdown",
   "id": "93efed70-06b5-40a3-91d3-86ca8a54cf69",
   "metadata": {},
   "source": [
    "## Linear Regression Model"
   ]
  },
  {
   "cell_type": "code",
   "execution_count": 473,
   "id": "0fe867e1-3fa0-49d3-8c42-1f45ec9f7e62",
   "metadata": {},
   "outputs": [],
   "source": [
    "# Linear Regression (with No log)\n",
    "\n",
    "lr = make_pipeline(StandardScaler(), LinearRegression())\n",
    "lr.fit(X_train, y_train)\n",
    "y_pred = lr.predict(X_test)"
   ]
  },
  {
   "cell_type": "code",
   "execution_count": 474,
   "id": "677e7cb0-b4f0-4bda-b5e6-9809e39fe70c",
   "metadata": {},
   "outputs": [],
   "source": [
    "LR_results_df = pd.DataFrame({\"Actual_Price\": y_test,\n",
    "                              \"LR_Predicted\": y_pred},\n",
    "                             index=y_test.index)"
   ]
  },
  {
   "cell_type": "code",
   "execution_count": 475,
   "id": "6dbc5523-0876-493e-9659-16a984a7b9fa",
   "metadata": {
    "scrolled": true
   },
   "outputs": [
    {
     "data": {
      "text/html": [
       "<div>\n",
       "<style scoped>\n",
       "    .dataframe tbody tr th:only-of-type {\n",
       "        vertical-align: middle;\n",
       "    }\n",
       "\n",
       "    .dataframe tbody tr th {\n",
       "        vertical-align: top;\n",
       "    }\n",
       "\n",
       "    .dataframe thead th {\n",
       "        text-align: right;\n",
       "    }\n",
       "</style>\n",
       "<table border=\"1\" class=\"dataframe\">\n",
       "  <thead>\n",
       "    <tr style=\"text-align: right;\">\n",
       "      <th></th>\n",
       "      <th>Actual_Price</th>\n",
       "      <th>LR_Predicted</th>\n",
       "    </tr>\n",
       "  </thead>\n",
       "  <tbody>\n",
       "    <tr>\n",
       "      <th>172</th>\n",
       "      <td>5250000</td>\n",
       "      <td>7.058534e+06</td>\n",
       "    </tr>\n",
       "    <tr>\n",
       "      <th>209</th>\n",
       "      <td>4900000</td>\n",
       "      <td>3.400854e+06</td>\n",
       "    </tr>\n",
       "    <tr>\n",
       "      <th>248</th>\n",
       "      <td>4543000</td>\n",
       "      <td>4.786284e+06</td>\n",
       "    </tr>\n",
       "    <tr>\n",
       "      <th>497</th>\n",
       "      <td>2660000</td>\n",
       "      <td>2.710337e+06</td>\n",
       "    </tr>\n",
       "    <tr>\n",
       "      <th>463</th>\n",
       "      <td>3080000</td>\n",
       "      <td>3.132688e+06</td>\n",
       "    </tr>\n",
       "  </tbody>\n",
       "</table>\n",
       "</div>"
      ],
      "text/plain": [
       "     Actual_Price  LR_Predicted\n",
       "172       5250000  7.058534e+06\n",
       "209       4900000  3.400854e+06\n",
       "248       4543000  4.786284e+06\n",
       "497       2660000  2.710337e+06\n",
       "463       3080000  3.132688e+06"
      ]
     },
     "execution_count": 475,
     "metadata": {},
     "output_type": "execute_result"
    }
   ],
   "source": [
    "LR_results_df.head()"
   ]
  },
  {
   "cell_type": "code",
   "execution_count": 476,
   "id": "d9a6bbf6-7209-4b3c-9704-8fcd949242f0",
   "metadata": {
    "editable": true,
    "slideshow": {
     "slide_type": ""
    },
    "tags": []
   },
   "outputs": [],
   "source": [
    "LR_no_log_MAE = mean_absolute_error(y_test, y_pred)\n",
    "LR_no_log_MSE = mean_squared_error(y_test, y_pred)\n",
    "LR_no_log_RMSE = np.sqrt(LR_no_log_MSE)\n",
    "LR_no_log_R2 = r2_score(y_test, y_pred)\n",
    "LR_no_log_MAPE = mean_absolute_percentage_error(y_test, y_pred)"
   ]
  },
  {
   "cell_type": "code",
   "execution_count": 477,
   "id": "cb1462d8-84fd-4443-85e1-ed0c99595db7",
   "metadata": {},
   "outputs": [
    {
     "name": "stdout",
     "output_type": "stream",
     "text": [
      "LR_no_log_MAE:  721518.7\n",
      "LR_no_log_MSE:  1022622076670.6\n",
      "LR_no_log_RMSE:  1011247.8\n",
      "LR_no_log_R²:  0.657\n",
      "LR_no_log_MAPE:  16.6%\n"
     ]
    }
   ],
   "source": [
    "print(f\"LR_no_log_MAE: {LR_no_log_MAE: .1f}\")\n",
    "print(f\"LR_no_log_MSE: {LR_no_log_MSE: .1f}\")\n",
    "print(f\"LR_no_log_RMSE: {LR_no_log_RMSE: .1f}\")\n",
    "print(f\"LR_no_log_R²: {LR_no_log_R2: .3f}\")\n",
    "print(f\"LR_no_log_MAPE: {LR_no_log_MAPE*100: .1f}%\")"
   ]
  },
  {
   "cell_type": "code",
   "execution_count": 478,
   "id": "8bc86eba-65d0-4a87-9e74-c7ed9ed2a821",
   "metadata": {},
   "outputs": [],
   "source": [
    "y_train_log = np.log(y_train)\n",
    "y_test_log = np.log(y_test)"
   ]
  },
  {
   "cell_type": "code",
   "execution_count": 479,
   "id": "ebad0d4a-ba28-4047-b6f1-2a8de5f7560d",
   "metadata": {},
   "outputs": [],
   "source": [
    "# Linear Regression (with log)\n",
    "\n",
    "lr_log = make_pipeline(StandardScaler(), LinearRegression())\n",
    "lr_log.fit(X_train, y_train_log)\n",
    "y_pred_log = lr_log.predict(X_test)"
   ]
  },
  {
   "cell_type": "code",
   "execution_count": 480,
   "id": "ec98dfb3-375f-4f6a-99b4-362312618622",
   "metadata": {},
   "outputs": [],
   "source": [
    "# Returning the data to the orginal form\n",
    "\n",
    "y_pred_real = np.exp(y_pred_log)\n",
    "y_actual_real = np.exp(y_test_log)"
   ]
  },
  {
   "cell_type": "code",
   "execution_count": 481,
   "id": "54fdfce9-606d-4002-9bda-40dec0372ff9",
   "metadata": {},
   "outputs": [],
   "source": [
    "LR_log_results_df = pd.DataFrame({\"Actual_Price\": y_actual_real,\n",
    "                                  \"LR_Log_Predicted\": y_pred_real},\n",
    "                                 index=y_test.index)"
   ]
  },
  {
   "cell_type": "code",
   "execution_count": 482,
   "id": "78297593-ef86-47ac-ab28-d4bc665940f0",
   "metadata": {},
   "outputs": [
    {
     "data": {
      "text/html": [
       "<div>\n",
       "<style scoped>\n",
       "    .dataframe tbody tr th:only-of-type {\n",
       "        vertical-align: middle;\n",
       "    }\n",
       "\n",
       "    .dataframe tbody tr th {\n",
       "        vertical-align: top;\n",
       "    }\n",
       "\n",
       "    .dataframe thead th {\n",
       "        text-align: right;\n",
       "    }\n",
       "</style>\n",
       "<table border=\"1\" class=\"dataframe\">\n",
       "  <thead>\n",
       "    <tr style=\"text-align: right;\">\n",
       "      <th></th>\n",
       "      <th>Actual_Price</th>\n",
       "      <th>LR_Log_Predicted</th>\n",
       "    </tr>\n",
       "  </thead>\n",
       "  <tbody>\n",
       "    <tr>\n",
       "      <th>172</th>\n",
       "      <td>5250000.0</td>\n",
       "      <td>6.953038e+06</td>\n",
       "    </tr>\n",
       "    <tr>\n",
       "      <th>209</th>\n",
       "      <td>4900000.0</td>\n",
       "      <td>3.350633e+06</td>\n",
       "    </tr>\n",
       "    <tr>\n",
       "      <th>248</th>\n",
       "      <td>4543000.0</td>\n",
       "      <td>4.530649e+06</td>\n",
       "    </tr>\n",
       "    <tr>\n",
       "      <th>497</th>\n",
       "      <td>2660000.0</td>\n",
       "      <td>2.863419e+06</td>\n",
       "    </tr>\n",
       "    <tr>\n",
       "      <th>463</th>\n",
       "      <td>3080000.0</td>\n",
       "      <td>3.203592e+06</td>\n",
       "    </tr>\n",
       "  </tbody>\n",
       "</table>\n",
       "</div>"
      ],
      "text/plain": [
       "     Actual_Price  LR_Log_Predicted\n",
       "172     5250000.0      6.953038e+06\n",
       "209     4900000.0      3.350633e+06\n",
       "248     4543000.0      4.530649e+06\n",
       "497     2660000.0      2.863419e+06\n",
       "463     3080000.0      3.203592e+06"
      ]
     },
     "execution_count": 482,
     "metadata": {},
     "output_type": "execute_result"
    }
   ],
   "source": [
    "LR_log_results_df.head()"
   ]
  },
  {
   "cell_type": "code",
   "execution_count": 483,
   "id": "f1cad10b-3978-4196-8fc8-4771ca1529b8",
   "metadata": {},
   "outputs": [],
   "source": [
    "LR_log_MAE = mean_absolute_error(y_actual_real, y_pred_real)\n",
    "LR_log_MSE = mean_squared_error(y_actual_real, y_pred_real)\n",
    "LR_log_RMSE = np.sqrt(LR_log_MSE)\n",
    "LR_log_R2 = r2_score(y_actual_real, y_pred_real)\n",
    "LR_log_MAPE = mean_absolute_percentage_error(y_actual_real, y_pred_real)"
   ]
  },
  {
   "cell_type": "code",
   "execution_count": 484,
   "id": "a25b39a9-d1bc-448b-8ba0-3e43162ead17",
   "metadata": {},
   "outputs": [
    {
     "name": "stdout",
     "output_type": "stream",
     "text": [
      "LR_log_MAE:  671833.2\n",
      "LR_log_MSE:  910840435475.1\n",
      "LR_log_RMSE:  954379.6\n",
      "LR_log_R²:  0.694\n",
      "LR_log_MAPE:  15.4%\n"
     ]
    }
   ],
   "source": [
    "print(f\"LR_log_MAE: {LR_log_MAE: .1f}\")\n",
    "print(f\"LR_log_MSE: {LR_log_MSE: .1f}\")\n",
    "print(f\"LR_log_RMSE: {LR_log_RMSE: .1f}\")\n",
    "print(f\"LR_log_R²: {LR_log_R2: .3f}\")\n",
    "print(f\"LR_log_MAPE: {LR_log_MAPE*100: .1f}%\")"
   ]
  },
  {
   "cell_type": "markdown",
   "id": "0edf3789-5ac9-4ba6-839f-7846cc21f5a3",
   "metadata": {},
   "source": [
    "## RandomForestRegressor Model"
   ]
  },
  {
   "cell_type": "code",
   "execution_count": 485,
   "id": "d21dabb5-580a-4464-9026-011ddcfec1d1",
   "metadata": {},
   "outputs": [],
   "source": [
    "# RandomForestRegressor (With No Log)  \n",
    "\n",
    "rfr = RandomForestRegressor(\n",
    "    n_estimators = 500,\n",
    "    max_depth = 10,\n",
    "    min_samples_split = 2,\n",
    "    min_samples_leaf = 1 ,\n",
    "    max_features = 1.0 ,\n",
    "    bootstrap = True,\n",
    "    random_state = 2022,\n",
    "    n_jobs=-1\n",
    ")\n",
    "rfr.fit(X_train, y_train)\n",
    "y_pred = rfr.predict(X_test)"
   ]
  },
  {
   "cell_type": "code",
   "execution_count": 486,
   "id": "2ad7174d-9619-449d-8403-0f9944f90208",
   "metadata": {},
   "outputs": [],
   "source": [
    "RFR_no_log_results_df = pd.DataFrame({\"Actual_Price\": y_test,\n",
    "                                      \"RFR_Predicted\": y_pred},\n",
    "                                     index=y_test.index)"
   ]
  },
  {
   "cell_type": "code",
   "execution_count": 487,
   "id": "b53f6768-710f-489b-9268-ec3f9ee91c06",
   "metadata": {},
   "outputs": [
    {
     "data": {
      "text/html": [
       "<div>\n",
       "<style scoped>\n",
       "    .dataframe tbody tr th:only-of-type {\n",
       "        vertical-align: middle;\n",
       "    }\n",
       "\n",
       "    .dataframe tbody tr th {\n",
       "        vertical-align: top;\n",
       "    }\n",
       "\n",
       "    .dataframe thead th {\n",
       "        text-align: right;\n",
       "    }\n",
       "</style>\n",
       "<table border=\"1\" class=\"dataframe\">\n",
       "  <thead>\n",
       "    <tr style=\"text-align: right;\">\n",
       "      <th></th>\n",
       "      <th>Actual_Price</th>\n",
       "      <th>RFR_Predicted</th>\n",
       "    </tr>\n",
       "  </thead>\n",
       "  <tbody>\n",
       "    <tr>\n",
       "      <th>172</th>\n",
       "      <td>5250000</td>\n",
       "      <td>7.371303e+06</td>\n",
       "    </tr>\n",
       "    <tr>\n",
       "      <th>209</th>\n",
       "      <td>4900000</td>\n",
       "      <td>3.599352e+06</td>\n",
       "    </tr>\n",
       "    <tr>\n",
       "      <th>248</th>\n",
       "      <td>4543000</td>\n",
       "      <td>4.842396e+06</td>\n",
       "    </tr>\n",
       "    <tr>\n",
       "      <th>497</th>\n",
       "      <td>2660000</td>\n",
       "      <td>3.046642e+06</td>\n",
       "    </tr>\n",
       "    <tr>\n",
       "      <th>463</th>\n",
       "      <td>3080000</td>\n",
       "      <td>2.954154e+06</td>\n",
       "    </tr>\n",
       "  </tbody>\n",
       "</table>\n",
       "</div>"
      ],
      "text/plain": [
       "     Actual_Price  RFR_Predicted\n",
       "172       5250000   7.371303e+06\n",
       "209       4900000   3.599352e+06\n",
       "248       4543000   4.842396e+06\n",
       "497       2660000   3.046642e+06\n",
       "463       3080000   2.954154e+06"
      ]
     },
     "execution_count": 487,
     "metadata": {},
     "output_type": "execute_result"
    }
   ],
   "source": [
    "RFR_no_log_results_df.head()"
   ]
  },
  {
   "cell_type": "code",
   "execution_count": 488,
   "id": "813fc6f1-264a-400f-a956-cdd80413d99e",
   "metadata": {},
   "outputs": [],
   "source": [
    "RFR_no_log_MAE = mean_absolute_error(y_test, y_pred)\n",
    "RFR_no_log_MSE = mean_squared_error(y_test, y_pred)\n",
    "RFR_no_log_RMSE = np.sqrt(RFR_no_log_MSE)\n",
    "RFR_no_log_R2 = r2_score(y_test, y_pred)\n",
    "RFR_no_log_MAPE = mean_absolute_percentage_error(y_test, y_pred)"
   ]
  },
  {
   "cell_type": "code",
   "execution_count": 489,
   "id": "07d5fc2e-5f76-47d7-9666-9707396d942c",
   "metadata": {},
   "outputs": [
    {
     "name": "stdout",
     "output_type": "stream",
     "text": [
      "RFR_no_log_MAE:  846370.9\n",
      "RFR_no_log_MSE:  1522453443533.3\n",
      "RFR_no_log_RMSE:  1233877.4\n",
      "RFR_no_log_R²:  0.489\n",
      "RFR_no_log_MAPE:  18.6%\n"
     ]
    }
   ],
   "source": [
    "print(f\"RFR_no_log_MAE: {RFR_no_log_MAE: .1f}\")\n",
    "print(f\"RFR_no_log_MSE: {RFR_no_log_MSE: .1f}\")\n",
    "print(f\"RFR_no_log_RMSE: {RFR_no_log_RMSE: .1f}\")\n",
    "print(f\"RFR_no_log_R²: {RFR_no_log_R2: .3f}\")\n",
    "print(f\"RFR_no_log_MAPE: {RFR_no_log_MAPE*100: .1f}%\")"
   ]
  },
  {
   "cell_type": "code",
   "execution_count": 490,
   "id": "9c50d33e-8c3a-425c-8625-d16a17be9e8a",
   "metadata": {},
   "outputs": [],
   "source": [
    "# RandomForestRegressor (With Log)\n",
    "\n",
    "rfr_log = RandomForestRegressor(\n",
    "    n_estimators = 500,\n",
    "    max_depth = 10,\n",
    "    min_samples_split = 2,\n",
    "    min_samples_leaf = 1 ,\n",
    "    max_features = 1.0 ,\n",
    "    bootstrap = True,\n",
    "    random_state = 2022,\n",
    "    n_jobs=-1\n",
    ")\n",
    "rfr_log.fit(X_train, y_train_log)\n",
    "y_pred_log = rfr_log.predict(X_test)"
   ]
  },
  {
   "cell_type": "code",
   "execution_count": 491,
   "id": "4ccf9e3c-c755-4681-82be-106926070049",
   "metadata": {},
   "outputs": [],
   "source": [
    "# Returning the data to the orginal form\n",
    "\n",
    "y_pred_real = np.exp(y_pred_log)\n",
    "y_actual_real = np.exp(y_test_log)"
   ]
  },
  {
   "cell_type": "code",
   "execution_count": 492,
   "id": "d1acc5da-86c7-4580-864e-b42b2fe9c09c",
   "metadata": {},
   "outputs": [],
   "source": [
    "RFR_log_results_df = pd.DataFrame({\"Actual_Price\": y_actual_real,\n",
    "                                   \"RFR_Log_Predicted\": y_pred_real},\n",
    "                                  index=y_test.index)"
   ]
  },
  {
   "cell_type": "code",
   "execution_count": 493,
   "id": "ae15d6f6-2de2-41a1-bd72-f3febabb098d",
   "metadata": {},
   "outputs": [
    {
     "data": {
      "text/html": [
       "<div>\n",
       "<style scoped>\n",
       "    .dataframe tbody tr th:only-of-type {\n",
       "        vertical-align: middle;\n",
       "    }\n",
       "\n",
       "    .dataframe tbody tr th {\n",
       "        vertical-align: top;\n",
       "    }\n",
       "\n",
       "    .dataframe thead th {\n",
       "        text-align: right;\n",
       "    }\n",
       "</style>\n",
       "<table border=\"1\" class=\"dataframe\">\n",
       "  <thead>\n",
       "    <tr style=\"text-align: right;\">\n",
       "      <th></th>\n",
       "      <th>Actual_Price</th>\n",
       "      <th>RFR_Log_Predicted</th>\n",
       "    </tr>\n",
       "  </thead>\n",
       "  <tbody>\n",
       "    <tr>\n",
       "      <th>172</th>\n",
       "      <td>5250000.0</td>\n",
       "      <td>6.950370e+06</td>\n",
       "    </tr>\n",
       "    <tr>\n",
       "      <th>209</th>\n",
       "      <td>4900000.0</td>\n",
       "      <td>3.570498e+06</td>\n",
       "    </tr>\n",
       "    <tr>\n",
       "      <th>248</th>\n",
       "      <td>4543000.0</td>\n",
       "      <td>4.546601e+06</td>\n",
       "    </tr>\n",
       "    <tr>\n",
       "      <th>497</th>\n",
       "      <td>2660000.0</td>\n",
       "      <td>2.949395e+06</td>\n",
       "    </tr>\n",
       "    <tr>\n",
       "      <th>463</th>\n",
       "      <td>3080000.0</td>\n",
       "      <td>2.806743e+06</td>\n",
       "    </tr>\n",
       "  </tbody>\n",
       "</table>\n",
       "</div>"
      ],
      "text/plain": [
       "     Actual_Price  RFR_Log_Predicted\n",
       "172     5250000.0       6.950370e+06\n",
       "209     4900000.0       3.570498e+06\n",
       "248     4543000.0       4.546601e+06\n",
       "497     2660000.0       2.949395e+06\n",
       "463     3080000.0       2.806743e+06"
      ]
     },
     "execution_count": 493,
     "metadata": {},
     "output_type": "execute_result"
    }
   ],
   "source": [
    "RFR_log_results_df.head()"
   ]
  },
  {
   "cell_type": "code",
   "execution_count": 494,
   "id": "b0a2d679-8d72-4c74-a5ca-981ab8421d17",
   "metadata": {},
   "outputs": [],
   "source": [
    "RFR_log_MAE = mean_absolute_error(y_actual_real, y_pred_real)\n",
    "RFR_log_MSE = mean_squared_error(y_actual_real, y_pred_real)\n",
    "RFR_log_RMSE = np.sqrt(RFR_log_MSE)\n",
    "RFR_log_R2 = r2_score(y_actual_real, y_pred_real)\n",
    "RFR_log_MAPE = mean_absolute_percentage_error(y_actual_real, y_pred_real)"
   ]
  },
  {
   "cell_type": "code",
   "execution_count": 495,
   "id": "6e96ec5d-2ad1-4f62-a6c5-494698752a7b",
   "metadata": {},
   "outputs": [
    {
     "name": "stdout",
     "output_type": "stream",
     "text": [
      "RFR_log_MAE:  821630.7\n",
      "RFR_log_MSE:  1416839016477.2\n",
      "RFR_log_RMSE:  1190310.5\n",
      "RFR_log_R²:  0.525\n",
      "RFR_log_MAPE:  17.7%\n"
     ]
    }
   ],
   "source": [
    "print(f\"RFR_log_MAE: {RFR_log_MAE: .1f}\")\n",
    "print(f\"RFR_log_MSE: {RFR_log_MSE: .1f}\")\n",
    "print(f\"RFR_log_RMSE: {RFR_log_RMSE: .1f}\")\n",
    "print(f\"RFR_log_R²: {RFR_log_R2: .3f}\")\n",
    "print(f\"RFR_log_MAPE: {RFR_log_MAPE*100: .1f}%\")"
   ]
  },
  {
   "cell_type": "markdown",
   "id": "644abd92-ee16-46df-a12d-52e264280344",
   "metadata": {},
   "source": [
    "## XGBRegressor Model"
   ]
  },
  {
   "cell_type": "code",
   "execution_count": 496,
   "id": "4d47474a-4fdb-4637-b4e2-db0d4135e49a",
   "metadata": {},
   "outputs": [],
   "source": [
    "# XGBRegressor (With No Log)\n",
    "\n",
    "xgb = XGBRegressor(n_estimators = 500,\n",
    "                   learning_rate = 0.05,\n",
    "                   max_depth = 5,\n",
    "                   subsample = 0.8,\n",
    "                   colsample_bytree = 0.8,\n",
    "                   random_state = 2022)\n",
    "xgb.fit(X_train, y_train)\n",
    "y_pred = xgb.predict(X_test)"
   ]
  },
  {
   "cell_type": "code",
   "execution_count": 497,
   "id": "d05a4168-221c-4c47-8a66-bb681f0a9f20",
   "metadata": {},
   "outputs": [],
   "source": [
    "XGB_no_log_results_df = pd.DataFrame({\"Actual_Price\": y_test,\n",
    "                                      \"XGB_Predicted\": y_pred},\n",
    "                                     index=y_test.index)"
   ]
  },
  {
   "cell_type": "code",
   "execution_count": 498,
   "id": "d3dacadc-6455-4811-9aec-36e6b156657f",
   "metadata": {},
   "outputs": [
    {
     "data": {
      "text/html": [
       "<div>\n",
       "<style scoped>\n",
       "    .dataframe tbody tr th:only-of-type {\n",
       "        vertical-align: middle;\n",
       "    }\n",
       "\n",
       "    .dataframe tbody tr th {\n",
       "        vertical-align: top;\n",
       "    }\n",
       "\n",
       "    .dataframe thead th {\n",
       "        text-align: right;\n",
       "    }\n",
       "</style>\n",
       "<table border=\"1\" class=\"dataframe\">\n",
       "  <thead>\n",
       "    <tr style=\"text-align: right;\">\n",
       "      <th></th>\n",
       "      <th>Actual_Price</th>\n",
       "      <th>XGB_Predicted</th>\n",
       "    </tr>\n",
       "  </thead>\n",
       "  <tbody>\n",
       "    <tr>\n",
       "      <th>172</th>\n",
       "      <td>5250000</td>\n",
       "      <td>7754986.00</td>\n",
       "    </tr>\n",
       "    <tr>\n",
       "      <th>209</th>\n",
       "      <td>4900000</td>\n",
       "      <td>3369068.00</td>\n",
       "    </tr>\n",
       "    <tr>\n",
       "      <th>248</th>\n",
       "      <td>4543000</td>\n",
       "      <td>5102842.00</td>\n",
       "    </tr>\n",
       "    <tr>\n",
       "      <th>497</th>\n",
       "      <td>2660000</td>\n",
       "      <td>3202338.50</td>\n",
       "    </tr>\n",
       "    <tr>\n",
       "      <th>463</th>\n",
       "      <td>3080000</td>\n",
       "      <td>3236624.25</td>\n",
       "    </tr>\n",
       "  </tbody>\n",
       "</table>\n",
       "</div>"
      ],
      "text/plain": [
       "     Actual_Price  XGB_Predicted\n",
       "172       5250000     7754986.00\n",
       "209       4900000     3369068.00\n",
       "248       4543000     5102842.00\n",
       "497       2660000     3202338.50\n",
       "463       3080000     3236624.25"
      ]
     },
     "execution_count": 498,
     "metadata": {},
     "output_type": "execute_result"
    }
   ],
   "source": [
    "XGB_no_log_results_df.head()"
   ]
  },
  {
   "cell_type": "code",
   "execution_count": 499,
   "id": "6f6b8f66-8d23-41a6-b2e6-168ebf2c8f87",
   "metadata": {},
   "outputs": [],
   "source": [
    "XGB_no_log_MAE = mean_absolute_error(y_test, y_pred)\n",
    "XGB_no_log_MSE = mean_squared_error(y_test, y_pred)\n",
    "XGB_no_log_RMSE = np.sqrt(XGB_no_log_MSE)\n",
    "XGB_no_log_R2 = r2_score(y_test, y_pred)\n",
    "XGB_no_log_MAPE = mean_absolute_percentage_error(y_test, y_pred)"
   ]
  },
  {
   "cell_type": "code",
   "execution_count": 500,
   "id": "c4bffbbb-1fc1-4bd9-8662-b455757e4d2c",
   "metadata": {},
   "outputs": [
    {
     "name": "stdout",
     "output_type": "stream",
     "text": [
      "XGB_no_log_MAE:  811200.4\n",
      "XGB_no_log_MSE:  1392595828736.0\n",
      "XGB_no_log_RMSE:  1180083.0\n",
      "XGB_no_log_R²:  0.533\n",
      "XGB_no_log_MAPE:  17.4%\n"
     ]
    }
   ],
   "source": [
    "print(f\"XGB_no_log_MAE: {XGB_no_log_MAE: .1f}\")\n",
    "print(f\"XGB_no_log_MSE: {XGB_no_log_MSE: .1f}\")\n",
    "print(f\"XGB_no_log_RMSE: {XGB_no_log_RMSE: .1f}\")\n",
    "print(f\"XGB_no_log_R²: {XGB_no_log_R2: .3f}\")\n",
    "print(f\"XGB_no_log_MAPE: {XGB_no_log_MAPE*100: .1f}%\")"
   ]
  },
  {
   "cell_type": "code",
   "execution_count": 501,
   "id": "6c587250-aa58-4edc-a783-1c474326a894",
   "metadata": {},
   "outputs": [],
   "source": [
    "# XGBRegressor (With Log)\n",
    "\n",
    "xgb_log = XGBRegressor(n_estimators = 500,\n",
    "                   learning_rate = 0.05,\n",
    "                   max_depth = 5,\n",
    "                   subsample = 0.8,\n",
    "                   colsample_bytree = 0.8,\n",
    "                   random_state = 2022)\n",
    "\n",
    "xgb_log.fit(X_train, y_train_log)\n",
    "y_pred_log = xgb_log.predict(X_test)"
   ]
  },
  {
   "cell_type": "code",
   "execution_count": 502,
   "id": "acc7ddfb-6665-4363-8839-97a317b6d627",
   "metadata": {},
   "outputs": [],
   "source": [
    "# Returning the data to the orginal form\n",
    "\n",
    "y_pred_real = np.exp(y_pred_log)\n",
    "y_actual_real = np.exp(y_test_log)"
   ]
  },
  {
   "cell_type": "code",
   "execution_count": 503,
   "id": "56a6a84d-93f0-4aca-9765-4e9e06ffe082",
   "metadata": {},
   "outputs": [],
   "source": [
    "XGB_log_results_df = pd.DataFrame({\"Actual_Price\": y_actual_real,\n",
    "                                   \"XGB_Log_Predicted\": y_pred_real},\n",
    "                                  index=y_test.index)"
   ]
  },
  {
   "cell_type": "code",
   "execution_count": 504,
   "id": "a4d2142e-9efe-4ca7-8bf8-044711ed7cad",
   "metadata": {},
   "outputs": [
    {
     "data": {
      "text/html": [
       "<div>\n",
       "<style scoped>\n",
       "    .dataframe tbody tr th:only-of-type {\n",
       "        vertical-align: middle;\n",
       "    }\n",
       "\n",
       "    .dataframe tbody tr th {\n",
       "        vertical-align: top;\n",
       "    }\n",
       "\n",
       "    .dataframe thead th {\n",
       "        text-align: right;\n",
       "    }\n",
       "</style>\n",
       "<table border=\"1\" class=\"dataframe\">\n",
       "  <thead>\n",
       "    <tr style=\"text-align: right;\">\n",
       "      <th></th>\n",
       "      <th>Actual_Price</th>\n",
       "      <th>XGB_Log_Predicted</th>\n",
       "    </tr>\n",
       "  </thead>\n",
       "  <tbody>\n",
       "    <tr>\n",
       "      <th>172</th>\n",
       "      <td>5250000.0</td>\n",
       "      <td>7137691.5</td>\n",
       "    </tr>\n",
       "    <tr>\n",
       "      <th>209</th>\n",
       "      <td>4900000.0</td>\n",
       "      <td>3354333.0</td>\n",
       "    </tr>\n",
       "    <tr>\n",
       "      <th>248</th>\n",
       "      <td>4543000.0</td>\n",
       "      <td>4838700.0</td>\n",
       "    </tr>\n",
       "    <tr>\n",
       "      <th>497</th>\n",
       "      <td>2660000.0</td>\n",
       "      <td>3221557.0</td>\n",
       "    </tr>\n",
       "    <tr>\n",
       "      <th>463</th>\n",
       "      <td>3080000.0</td>\n",
       "      <td>2852345.5</td>\n",
       "    </tr>\n",
       "  </tbody>\n",
       "</table>\n",
       "</div>"
      ],
      "text/plain": [
       "     Actual_Price  XGB_Log_Predicted\n",
       "172     5250000.0          7137691.5\n",
       "209     4900000.0          3354333.0\n",
       "248     4543000.0          4838700.0\n",
       "497     2660000.0          3221557.0\n",
       "463     3080000.0          2852345.5"
      ]
     },
     "execution_count": 504,
     "metadata": {},
     "output_type": "execute_result"
    }
   ],
   "source": [
    "XGB_log_results_df.head()"
   ]
  },
  {
   "cell_type": "code",
   "execution_count": 505,
   "id": "312c68e7-9739-49cd-b1ae-fe6a911e9ccf",
   "metadata": {},
   "outputs": [],
   "source": [
    "XGB_log_MAE = mean_absolute_error(y_actual_real, y_pred_real)\n",
    "XGB_log_MSE = mean_squared_error(y_actual_real, y_pred_real)\n",
    "XGB_log_RMSE = np.sqrt(XGB_log_MSE)\n",
    "XGB_log_R2 = r2_score(y_actual_real, y_pred_real)\n",
    "XGB_log_MAPE = mean_absolute_percentage_error(y_actual_real, y_pred_real)"
   ]
  },
  {
   "cell_type": "code",
   "execution_count": 506,
   "id": "bf64414d-36c5-4272-b6c7-b30ffa38786f",
   "metadata": {},
   "outputs": [
    {
     "name": "stdout",
     "output_type": "stream",
     "text": [
      "XGB_log_MAE:  793060.9\n",
      "XGB_log_MSE:  1428396136194.6\n",
      "XGB_log_RMSE:  1195155.3\n",
      "XGB_log_R²:  0.521\n",
      "XGB_log_MAPE:  16.8%\n"
     ]
    }
   ],
   "source": [
    "print(f\"XGB_log_MAE: {XGB_log_MAE: .1f}\")\n",
    "print(f\"XGB_log_MSE: {XGB_log_MSE: .1f}\")\n",
    "print(f\"XGB_log_RMSE: {XGB_log_RMSE: .1f}\")\n",
    "print(f\"XGB_log_R²: {XGB_log_R2: .3f}\")\n",
    "print(f\"XGB_log_MAPE: {XGB_log_MAPE*100: .1f}%\")"
   ]
  },
  {
   "cell_type": "code",
   "execution_count": 507,
   "id": "a94d26a1-d393-4077-9847-6587f1a94fb1",
   "metadata": {},
   "outputs": [],
   "source": [
    "results_df = pd.DataFrame({\n",
    "    \"MAE\":  [LR_no_log_MAE, LR_log_MAE, RFR_no_log_MAE, RFR_log_MAE, XGB_no_log_MAE, XGB_log_MAE],\n",
    "    \"MSE\":  [LR_no_log_MSE, LR_log_MSE, RFR_no_log_MSE, RFR_log_MSE, XGB_no_log_MSE, XGB_log_MSE],\n",
    "    \"RMSE\": [LR_no_log_RMSE, LR_log_RMSE, RFR_no_log_RMSE, RFR_log_RMSE, XGB_no_log_RMSE, XGB_log_RMSE],\n",
    "    \"R²\":   [LR_no_log_R2,  LR_log_R2,  RFR_no_log_R2,  RFR_log_R2,  XGB_no_log_R2,  XGB_log_R2],\n",
    "    \"MAPE (%)\": [LR_no_log_MAPE*100, LR_log_MAPE*100, RFR_no_log_MAPE*100,RFR_log_MAPE*100,   XGB_no_log_MAPE*100, XGB_log_MAPE*100],\n",
    "}, index=[\"LR_with no log\", \"LR_with log\", \"RFR_with no log\", \"RFR_with log\", \"XGB_with no log\", \"XGB_with log\" ])"
   ]
  },
  {
   "cell_type": "code",
   "execution_count": 508,
   "id": "e3119647-02d6-4a99-8c6e-83f07dd314d6",
   "metadata": {},
   "outputs": [
    {
     "name": "stdout",
     "output_type": "stream",
     "text": [
      "\n",
      "Final Comparison Table:\n"
     ]
    },
    {
     "data": {
      "text/html": [
       "<div>\n",
       "<style scoped>\n",
       "    .dataframe tbody tr th:only-of-type {\n",
       "        vertical-align: middle;\n",
       "    }\n",
       "\n",
       "    .dataframe tbody tr th {\n",
       "        vertical-align: top;\n",
       "    }\n",
       "\n",
       "    .dataframe thead th {\n",
       "        text-align: right;\n",
       "    }\n",
       "</style>\n",
       "<table border=\"1\" class=\"dataframe\">\n",
       "  <thead>\n",
       "    <tr style=\"text-align: right;\">\n",
       "      <th></th>\n",
       "      <th>MAE</th>\n",
       "      <th>MSE</th>\n",
       "      <th>RMSE</th>\n",
       "      <th>R²</th>\n",
       "      <th>MAPE (%)</th>\n",
       "    </tr>\n",
       "  </thead>\n",
       "  <tbody>\n",
       "    <tr>\n",
       "      <th>LR_with no log</th>\n",
       "      <td>721518.666699</td>\n",
       "      <td>1.022622e+12</td>\n",
       "      <td>1.011248e+06</td>\n",
       "      <td>0.656881</td>\n",
       "      <td>16.646029</td>\n",
       "    </tr>\n",
       "    <tr>\n",
       "      <th>LR_with log</th>\n",
       "      <td>671833.183519</td>\n",
       "      <td>9.108404e+11</td>\n",
       "      <td>9.543796e+05</td>\n",
       "      <td>0.694387</td>\n",
       "      <td>15.351136</td>\n",
       "    </tr>\n",
       "    <tr>\n",
       "      <th>RFR_with no log</th>\n",
       "      <td>846370.876827</td>\n",
       "      <td>1.522453e+12</td>\n",
       "      <td>1.233877e+06</td>\n",
       "      <td>0.489173</td>\n",
       "      <td>18.579016</td>\n",
       "    </tr>\n",
       "    <tr>\n",
       "      <th>RFR_with log</th>\n",
       "      <td>821630.678434</td>\n",
       "      <td>1.416839e+12</td>\n",
       "      <td>1.190310e+06</td>\n",
       "      <td>0.524610</td>\n",
       "      <td>17.664443</td>\n",
       "    </tr>\n",
       "    <tr>\n",
       "      <th>XGB_with no log</th>\n",
       "      <td>811200.375000</td>\n",
       "      <td>1.392596e+12</td>\n",
       "      <td>1.180083e+06</td>\n",
       "      <td>0.532744</td>\n",
       "      <td>17.435066</td>\n",
       "    </tr>\n",
       "    <tr>\n",
       "      <th>XGB_with log</th>\n",
       "      <td>793060.850917</td>\n",
       "      <td>1.428396e+12</td>\n",
       "      <td>1.195155e+06</td>\n",
       "      <td>0.520732</td>\n",
       "      <td>16.836472</td>\n",
       "    </tr>\n",
       "  </tbody>\n",
       "</table>\n",
       "</div>"
      ],
      "text/plain": [
       "                           MAE           MSE          RMSE        R²  \\\n",
       "LR_with no log   721518.666699  1.022622e+12  1.011248e+06  0.656881   \n",
       "LR_with log      671833.183519  9.108404e+11  9.543796e+05  0.694387   \n",
       "RFR_with no log  846370.876827  1.522453e+12  1.233877e+06  0.489173   \n",
       "RFR_with log     821630.678434  1.416839e+12  1.190310e+06  0.524610   \n",
       "XGB_with no log  811200.375000  1.392596e+12  1.180083e+06  0.532744   \n",
       "XGB_with log     793060.850917  1.428396e+12  1.195155e+06  0.520732   \n",
       "\n",
       "                  MAPE (%)  \n",
       "LR_with no log   16.646029  \n",
       "LR_with log      15.351136  \n",
       "RFR_with no log  18.579016  \n",
       "RFR_with log     17.664443  \n",
       "XGB_with no log  17.435066  \n",
       "XGB_with log     16.836472  "
      ]
     },
     "execution_count": 508,
     "metadata": {},
     "output_type": "execute_result"
    }
   ],
   "source": [
    "print(\"\\nFinal Comparison Table:\")\n",
    "results_df.head(10)"
   ]
  },
  {
   "cell_type": "markdown",
   "id": "4b3865e4-60c2-42c3-9a71-02cb7b9412f1",
   "metadata": {},
   "source": [
    "# Conclusion"
   ]
  },
  {
   "cell_type": "markdown",
   "id": "3ada9710-575a-4733-acab-e6637a316997",
   "metadata": {},
   "source": [
    "**Linear Regression with log-transformed price** gave the best overall performance:\n",
    "  - Lowest MAE and RMSE  \n",
    "  - Highest R² (~0.69) → explained ~70% of the variance  \n",
    "  - Lowest MAPE (~15%) → predictions on average within 15% of actual prices  \n",
    "\n",
    "- **Random Forest** underperformed compared to LR, with lower R² (~0.49–0.52) and higher errors.  \n",
    "\n",
    "- **XGBoost** performed moderately better than RF, but still weaker than LR.  \n",
    "\n",
    "- **Log transformation** clearly improved model performance, especially for Linear Regression.  \n",
    "\n",
    "- **EDA showed**:\n",
    "  - Strong positive correlation between **area** and price  \n",
    "  - More **bathrooms, stories, and parking spots** generally increased price  \n",
    "  - Houses with **air conditioning, prefarea, or guestroom** tended to be more expensive  \n"
   ]
  },
  {
   "cell_type": "code",
   "execution_count": null,
   "id": "c3552b86-92cd-45eb-be2c-b252f7657cba",
   "metadata": {},
   "outputs": [],
   "source": []
  }
 ],
 "metadata": {
  "kernelspec": {
   "display_name": "Python 3 (ipykernel)",
   "language": "python",
   "name": "python3"
  },
  "language_info": {
   "codemirror_mode": {
    "name": "ipython",
    "version": 3
   },
   "file_extension": ".py",
   "mimetype": "text/x-python",
   "name": "python",
   "nbconvert_exporter": "python",
   "pygments_lexer": "ipython3",
   "version": "3.12.11"
  }
 },
 "nbformat": 4,
 "nbformat_minor": 5
}
